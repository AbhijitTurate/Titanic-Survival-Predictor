{
 "cells": [
  {
   "cell_type": "code",
   "execution_count": 1,
   "id": "3f9bc0ad",
   "metadata": {},
   "outputs": [],
   "source": [
    "import pandas as pd\n",
    "import numpy as np\n",
    "from sklearn.ensemble import GradientBoostingClassifier\n",
    "from sklearn.model_selection import train_test_split\n",
    "pd.options.mode.chained_assignment = None\n",
    "import joblib"
   ]
  },
  {
   "cell_type": "code",
   "execution_count": 2,
   "id": "d20c6224",
   "metadata": {},
   "outputs": [],
   "source": [
    "data = pd.read_csv(\"titanic_test.csv\")"
   ]
  },
  {
   "cell_type": "code",
   "execution_count": 4,
   "id": "f6b32588",
   "metadata": {},
   "outputs": [],
   "source": [
    "def fill_age(cols):\n",
    "    Age=cols[0]\n",
    "    Pclass=cols[1]\n",
    "    \n",
    "    if pd.isnull(Age):\n",
    "        \n",
    "        if Pclass== 1:\n",
    "            return 40\n",
    "        if Pclass == 2:\n",
    "            return 28\n",
    "        else:\n",
    "            return 24\n",
    "        \n",
    "    else:\n",
    "        return Age\n",
    "    "
   ]
  },
  {
   "cell_type": "code",
   "execution_count": 7,
   "id": "40a07d8f",
   "metadata": {},
   "outputs": [],
   "source": [
    "data['age']=data[['age','pclass']].apply(fill_age,axis=1)"
   ]
  },
  {
   "cell_type": "code",
   "execution_count": 8,
   "id": "83bcca1a",
   "metadata": {},
   "outputs": [],
   "source": [
    "data_input = data[['pclass','age','sex']]"
   ]
  },
  {
   "cell_type": "code",
   "execution_count": 9,
   "id": "66040aa7",
   "metadata": {},
   "outputs": [],
   "source": [
    "data_input['pclass'].replace('3rd', 3, inplace = True)\n",
    "data_input['pclass'].replace('2nd', 2, inplace = True)\n",
    "data_input['pclass'].replace('1st', 1, inplace = True)"
   ]
  },
  {
   "cell_type": "code",
   "execution_count": 10,
   "id": "4e82bb50",
   "metadata": {},
   "outputs": [],
   "source": [
    "data_input['sex'] = np.where(data_input['sex'] == 'female', 0, 1)"
   ]
  },
  {
   "cell_type": "code",
   "execution_count": 11,
   "id": "7931dd67",
   "metadata": {},
   "outputs": [],
   "source": [
    "gbc = joblib.load(\"titanic_survival_predictor_model\")"
   ]
  },
  {
   "cell_type": "code",
   "execution_count": 12,
   "id": "b31347ba",
   "metadata": {},
   "outputs": [
    {
     "name": "stdout",
     "output_type": "stream",
     "text": [
      "[0 1 0 1 0 0 0 0 0 1 0 1 0 0 1 1 1 0 0 1 0 0 0 0 1 0 0 0 0 0 0 0 0 0 0 0 1\n",
      " 0 0 0 0 1 0 1 0 0 0 0 0 0 0 0 1 0 0 1 0 0 0 0 0 0 1 0 0 1 0 0 0 0 0 0 0 0\n",
      " 0 0 1 0 1 0 0 1 0 0 0 0 0 0 0 0 0 1 0 0 0 0 0 0 0 1 0 1 0 1 1 0 0 0 0 1 0\n",
      " 1 1 0 1 0 0 1 1 0 0 0 1 1 1 0 0 1 0 0 1 0 0 0 0 1 0 0 0 0 1 1 1 0 0 0 0 1\n",
      " 0 0 0 0 0 0 0 1 0 1 1 0 1 0 0 0 0 0 0 0 0 0 0 0 0 0 1 1 0 0 0 0 1 0 1 0 1\n",
      " 0 0 1 0 0 0 0 1 0 0 0 1 0 0 0 1 1 0 0 1 0 0 1 0 0 1 0 0 1 0 1 0 0 0 1 0 1\n",
      " 0 0 1 0 0 0 0 0 0 0 1 0 0 0 1 0 1 0 0 0 0 0 0 0 0 0 0 0 0 0 0 0 0 1 1 0 0\n",
      " 0 0 1 0 0 1 1 0 1 0 0 0 0 1 1 0 0 0 1 0 0 1 0 0 0 0 0 1 0 0 0 1 0 1 0 1 0\n",
      " 0 1 0 0 0 1 0 1 0 0 0 1 1 1 0 0 1 0 1 0 1 0 0 0 0 1 1 0 0 0 0 0 0 0 0 1 0\n",
      " 0 0 0 0 0 0 0 1 0 0 1 0 0 0 1 0 0 1 1 0 1 1 1 0 0 1 0 0 0 0 1 0 1 0 0 0 0\n",
      " 0 0 0 0 0 0 0 0 0 1 0 1 0 0 0 1 0 1 1 1 0 0 1 0]\n"
     ]
    }
   ],
   "source": [
    "pred = gbc.predict(data_input)\n",
    "\n",
    "print(pred)\n"
   ]
  },
  {
   "cell_type": "code",
   "execution_count": 13,
   "id": "885da115",
   "metadata": {},
   "outputs": [],
   "source": [
    "def find_err(pred):\n",
    "    titanic_data = np.loadtxt(\"titanic_results.txt\", dtype=\"int32\")\n",
    "    diff_arr = np.equal(titanic_data, pred)\n",
    "    correct_answers = np.sum(diff_arr)\n",
    "    percent_diff = correct_answers / len(pred) * 100\n",
    "    print(\"Titanic: Percentage Match is: \", percent_diff)"
   ]
  },
  {
   "cell_type": "code",
   "execution_count": 14,
   "id": "94a099b2",
   "metadata": {},
   "outputs": [
    {
     "name": "stdout",
     "output_type": "stream",
     "text": [
      "Titanic: Percentage Match is:  83.50253807106598\n"
     ]
    }
   ],
   "source": [
    "find_err(pred)"
   ]
  },
  {
   "cell_type": "code",
   "execution_count": null,
   "id": "690e07fa",
   "metadata": {},
   "outputs": [],
   "source": []
  }
 ],
 "metadata": {
  "kernelspec": {
   "display_name": "Python 3",
   "language": "python",
   "name": "python3"
  },
  "language_info": {
   "codemirror_mode": {
    "name": "ipython",
    "version": 3
   },
   "file_extension": ".py",
   "mimetype": "text/x-python",
   "name": "python",
   "nbconvert_exporter": "python",
   "pygments_lexer": "ipython3",
   "version": "3.8.8"
  }
 },
 "nbformat": 4,
 "nbformat_minor": 5
}
